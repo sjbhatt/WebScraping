{
 "cells": [
  {
   "cell_type": "code",
   "execution_count": 23,
   "metadata": {},
   "outputs": [],
   "source": [
    "from splinter import Browser\n",
    "from bs4 import BeautifulSoup\n",
    "import requests\n",
    "import pymongo\n",
    "import time"
   ]
  },
  {
   "cell_type": "code",
   "execution_count": 24,
   "metadata": {},
   "outputs": [],
   "source": [
    "conn = 'mongodb://localhost:27017'\n",
    "client = pymongo.MongoClient(conn)"
   ]
  },
  {
   "cell_type": "code",
   "execution_count": 25,
   "metadata": {},
   "outputs": [],
   "source": [
    "db = client.nasa_mars_db\n",
    "collection = db.mars_news"
   ]
  },
  {
   "cell_type": "code",
   "execution_count": 26,
   "metadata": {},
   "outputs": [],
   "source": [
    "browser = Browser('chrome')"
   ]
  },
  {
   "cell_type": "code",
   "execution_count": 27,
   "metadata": {},
   "outputs": [],
   "source": [
    "nasa_url = \"https://mars.nasa.gov/news/\"\n",
    "browser.visit(nasa_url)\n",
    "time.sleep(0.5)"
   ]
  },
  {
   "cell_type": "code",
   "execution_count": 28,
   "metadata": {},
   "outputs": [
    {
     "name": "stdout",
     "output_type": "stream",
     "text": [
      "Things Are Stacking up for NASA's Mars 2020 Spacecraft\n",
      "As the July 2020 launch date inches closer, the next spacecraft headed to the Red Planet is assembled for more testing.\n"
     ]
    }
   ],
   "source": [
    "html_1 = browser.html\n",
    "soup = BeautifulSoup(html_1, 'html.parser')\n",
    "\n",
    "news_title =  soup.find('div', class_= 'content_title')\n",
    "print (news_title.text)\n",
    "news_para =  soup.find('div', class_= 'article_teaser_body')\n",
    "print (news_para.text)"
   ]
  },
  {
   "cell_type": "code",
   "execution_count": 29,
   "metadata": {},
   "outputs": [],
   "source": [
    "jpl_nasa_url = \"https://www.jpl.nasa.gov/spaceimages/?search=&category=Mars\"\n",
    "browser.visit(jpl_nasa_url)\n",
    "time.sleep(0.5)"
   ]
  },
  {
   "cell_type": "code",
   "execution_count": 30,
   "metadata": {},
   "outputs": [],
   "source": [
    "browser.click_link_by_id('full_image')\n",
    "time.sleep(0.5)"
   ]
  },
  {
   "cell_type": "code",
   "execution_count": 31,
   "metadata": {},
   "outputs": [],
   "source": [
    "browser.click_link_by_text('more info     ')\n",
    "time.sleep(0.5)"
   ]
  },
  {
   "cell_type": "code",
   "execution_count": 32,
   "metadata": {},
   "outputs": [],
   "source": [
    "html_2 = browser.html\n",
    "soup = BeautifulSoup(html_2, 'html.parser')"
   ]
  },
  {
   "cell_type": "code",
   "execution_count": 33,
   "metadata": {},
   "outputs": [
    {
     "name": "stdout",
     "output_type": "stream",
     "text": [
      "//photojournal.jpl.nasa.gov/tiff/PIA14924.tif\n",
      "//photojournal.jpl.nasa.gov/jpeg/PIA14924.jpg\n",
      "//photojournal.jpl.nasa.gov/jpeg/PIA14924.jpg\n"
     ]
    }
   ],
   "source": [
    "images = soup.find_all('div', class_=\"download_tiff\")\n",
    "for img in images:\n",
    "    try:\n",
    "        image_1 = img.a\n",
    "        image_2 = image_1['href']\n",
    "        print(image_2)\n",
    "        if image_2.endswith('jpg'):\n",
    "            featured_image_url = image_2\n",
    "            print(featured_image_url)\n",
    "            break\n",
    "    except AttributeError as e:\n",
    "        print (e)"
   ]
  },
  {
   "cell_type": "code",
   "execution_count": 34,
   "metadata": {},
   "outputs": [],
   "source": [
    "# img_url = soup.find('img', class_ = 'main_image')\n",
    "# full_img_url = img_url['src']\n",
    "# print(full_img_url)\n",
    "# featured_image_url = \"https://www.jpl.nasa.gov\" + str(full_img_url)\n",
    "# print (featured_image_url)"
   ]
  },
  {
   "cell_type": "code",
   "execution_count": 35,
   "metadata": {},
   "outputs": [],
   "source": [
    "mars_weather_twitter_url = \"https://twitter.com/marswxreport?lang=en\"\n",
    "browser.visit(mars_weather_twitter_url)\n",
    "time.sleep(0.5)\n",
    "html_3 = browser.html\n",
    "soup = BeautifulSoup(html_3, 'html.parser')"
   ]
  },
  {
   "cell_type": "code",
   "execution_count": 36,
   "metadata": {},
   "outputs": [],
   "source": [
    "# tweets = soup.find_all('div', class_ = 'stream-item-header')\n",
    "\n",
    "# for tweet in tweets:\n",
    "#     try:\n",
    "#         x = tweet.a['href']\n",
    "#         print(x)\n",
    "#         if x == ('/MarsWxReport'):\n",
    "#             mars_twitter_post = soup.find('p', class_= 'TweetTextSize TweetTextSize--normal js-tweet-text tweet-text')\n",
    "#             mars_weather_twitter_post = mars_twitter_post.contents[0]\n",
    "#             print(mars_weather_twitter_post)\n",
    "#             break\n",
    "#     except AttributeError as e:\n",
    "#         print (e)\n",
    "# type (x)"
   ]
  },
  {
   "cell_type": "code",
   "execution_count": 37,
   "metadata": {},
   "outputs": [
    {
     "name": "stdout",
     "output_type": "stream",
     "text": [
      "InSight sol 141 (2019-04-20) low -98.3ºC (-144.9ºF) high -19.7ºC (-3.5ºF)\n",
      "winds from the SW at 4.7 m/s (10.6 mph) gusting to 12.9 m/s (28.8 mph)\n",
      "pressure at 7.40 hPa\n"
     ]
    }
   ],
   "source": [
    "import re\n",
    "if soup.find(href=re.compile(\"MarsWxReport\")):\n",
    "    mars_twitter_post = soup.find('p', class_= 'TweetTextSize TweetTextSize--normal js-tweet-text tweet-text')\n",
    "    mars_weather_twitter_post = mars_twitter_post.contents[0]\n",
    "    print(mars_weather_twitter_post)    "
   ]
  },
  {
   "cell_type": "code",
   "execution_count": 38,
   "metadata": {},
   "outputs": [],
   "source": [
    "mars_facts_url = \"https://space-facts.com/mars/\"\n",
    "browser.visit(mars_facts_url)\n",
    "time.sleep(0.5)\n",
    "html_4 = browser.html\n",
    "soup = BeautifulSoup(html_4, 'html.parser')"
   ]
  },
  {
   "cell_type": "code",
   "execution_count": 39,
   "metadata": {},
   "outputs": [],
   "source": [
    "facts_table = soup.find('table')\n",
    "# print(facts_table.text)"
   ]
  },
  {
   "cell_type": "code",
   "execution_count": 40,
   "metadata": {},
   "outputs": [
    {
     "data": {
      "text/html": [
       "<div>\n",
       "<style scoped>\n",
       "    .dataframe tbody tr th:only-of-type {\n",
       "        vertical-align: middle;\n",
       "    }\n",
       "\n",
       "    .dataframe tbody tr th {\n",
       "        vertical-align: top;\n",
       "    }\n",
       "\n",
       "    .dataframe thead th {\n",
       "        text-align: right;\n",
       "    }\n",
       "</style>\n",
       "<table border=\"1\" class=\"dataframe\">\n",
       "  <thead>\n",
       "    <tr style=\"text-align: right;\">\n",
       "      <th></th>\n",
       "      <th>Parameter</th>\n",
       "      <th>Value</th>\n",
       "    </tr>\n",
       "  </thead>\n",
       "  <tbody>\n",
       "    <tr>\n",
       "      <th>0</th>\n",
       "      <td>Equatorial Diameter</td>\n",
       "      <td>6,792 km</td>\n",
       "    </tr>\n",
       "    <tr>\n",
       "      <th>1</th>\n",
       "      <td>Polar Diameter</td>\n",
       "      <td>6,752 km</td>\n",
       "    </tr>\n",
       "    <tr>\n",
       "      <th>2</th>\n",
       "      <td>Mass</td>\n",
       "      <td>6.42 x 10^23 kg (10.7% Earth)</td>\n",
       "    </tr>\n",
       "    <tr>\n",
       "      <th>3</th>\n",
       "      <td>Moons</td>\n",
       "      <td>2 (Phobos &amp; Deimos)</td>\n",
       "    </tr>\n",
       "    <tr>\n",
       "      <th>4</th>\n",
       "      <td>Orbit Distance</td>\n",
       "      <td>227,943,824 km (1.52 AU)</td>\n",
       "    </tr>\n",
       "    <tr>\n",
       "      <th>5</th>\n",
       "      <td>Orbit Period</td>\n",
       "      <td>687 days (1.9 years)</td>\n",
       "    </tr>\n",
       "    <tr>\n",
       "      <th>6</th>\n",
       "      <td>Surface Temperature:</td>\n",
       "      <td>-153 to 20 °C</td>\n",
       "    </tr>\n",
       "    <tr>\n",
       "      <th>7</th>\n",
       "      <td>First Record</td>\n",
       "      <td>2nd millennium BC</td>\n",
       "    </tr>\n",
       "    <tr>\n",
       "      <th>8</th>\n",
       "      <td>Recorded By</td>\n",
       "      <td>Egyptian astronomers</td>\n",
       "    </tr>\n",
       "  </tbody>\n",
       "</table>\n",
       "</div>"
      ],
      "text/plain": [
       "               Parameter                          Value\n",
       "0    Equatorial Diameter                       6,792 km\n",
       "1         Polar Diameter                       6,752 km\n",
       "2                   Mass  6.42 x 10^23 kg (10.7% Earth)\n",
       "3                  Moons            2 (Phobos & Deimos)\n",
       "4         Orbit Distance       227,943,824 km (1.52 AU)\n",
       "5           Orbit Period           687 days (1.9 years)\n",
       "6  Surface Temperature:                   -153 to 20 °C\n",
       "7           First Record              2nd millennium BC\n",
       "8            Recorded By           Egyptian astronomers"
      ]
     },
     "execution_count": 40,
     "metadata": {},
     "output_type": "execute_result"
    }
   ],
   "source": [
    "import pandas as pd\n",
    "\n",
    "column1 = facts_table.find_all('td', class_='column-1')\n",
    "column2 = facts_table.find_all('td', class_='column-2')\n",
    "\n",
    "Parameters = []\n",
    "Values = []\n",
    "\n",
    "for row in column1:\n",
    "    parameter = row.text.strip(\":\")\n",
    "    Parameters.append(parameter)\n",
    "    \n",
    "for row in column2:\n",
    "    value = row.text.strip()\n",
    "    Values.append(value)\n",
    "    \n",
    "mars_facts = pd.DataFrame({\n",
    "    \"Parameter\":Parameters,\n",
    "    \"Value\":Values\n",
    "    })\n",
    "\n",
    "mars_facts_html = mars_facts.to_html(header=False, index=None)\n",
    "mars_facts"
   ]
  },
  {
   "cell_type": "code",
   "execution_count": 41,
   "metadata": {},
   "outputs": [],
   "source": [
    "mars_hemispheres_url = \"https://astrogeology.usgs.gov/search/results?q=hemisphere+enhanced&k1=target&v1=Mars\"\n",
    "browser.visit(mars_hemispheres_url)\n",
    "time.sleep(0.5)\n",
    "html_5 = browser.html\n",
    "soup = BeautifulSoup(html_5, 'html.parser')"
   ]
  },
  {
   "cell_type": "code",
   "execution_count": 42,
   "metadata": {},
   "outputs": [],
   "source": [
    "# titles = soup.find_all('h3')\n",
    "# for title in titles:\n",
    "#     print(title.text)"
   ]
  },
  {
   "cell_type": "code",
   "execution_count": 43,
   "metadata": {},
   "outputs": [],
   "source": [
    "# base_url = \"https://astrogeology.usgs.gov\"\n",
    "# links = soup.find_all('div', class_=\"description\")\n",
    "# for link in links:\n",
    "# #     print(link.a['href'])\n",
    "#     new_link = base_url + str(link.a['href'])\n",
    "#     print(new_link)\n",
    "#     browser.visit(new_link)\n",
    "#     browser.click_link_by_partial_href('#open')\n",
    "#     html_6 = browser.html\n",
    "#     soup = BeautifulSoup(html_6, 'html.parser')\n",
    "#     full_img = soup.find('img', class_ = 'wide-image')\n",
    "#     img_link = full_img['src']\n",
    "#     print(img_link)\n",
    "#     browser.back()\n",
    "    "
   ]
  },
  {
   "cell_type": "code",
   "execution_count": 44,
   "metadata": {},
   "outputs": [
    {
     "name": "stdout",
     "output_type": "stream",
     "text": [
      "Cerberus Hemisphere Enhanced\n",
      "https://astrogeology.usgs.gov/cache/images/cfa62af2557222a02478f1fcd781d445_cerberus_enhanced.tif_full.jpg\n",
      "Schiaparelli Hemisphere Enhanced\n",
      "https://astrogeology.usgs.gov/cache/images/3cdd1cbf5e0813bba925c9030d13b62e_schiaparelli_enhanced.tif_full.jpg\n",
      "Syrtis Major Hemisphere Enhanced\n",
      "https://astrogeology.usgs.gov/cache/images/ae209b4e408bb6c3e67b6af38168cf28_syrtis_major_enhanced.tif_full.jpg\n",
      "Valles Marineris Hemisphere Enhanced\n",
      "https://astrogeology.usgs.gov/cache/images/7cf2da4bf549ed01c17f206327be4db7_valles_marineris_enhanced.tif_full.jpg\n"
     ]
    }
   ],
   "source": [
    "hemisphere_image_urls = []\n",
    "base_url = \"https://astrogeology.usgs.gov\"\n",
    "links = soup.find_all('div', class_=\"description\")\n",
    "for link in links:\n",
    "    title = link.h3.text\n",
    "    print (title)\n",
    "    new_link = base_url + str(link.a['href'])\n",
    "#     print(new_link)\n",
    "    browser.visit(new_link)\n",
    "    time.sleep(0.5)\n",
    "    browser.click_link_by_partial_href('#open')\n",
    "    time.sleep(0.5)\n",
    "    html_6 = browser.html\n",
    "    soup = BeautifulSoup(html_6, 'html.parser')\n",
    "    full_img = soup.find('img', class_ = 'wide-image')\n",
    "    img_link = full_img['src']\n",
    "#     print(img_link)\n",
    "    full_img_link = base_url + img_link\n",
    "    print(full_img_link)\n",
    "    hemisphere_image_urls.append( {'title':title, 'img_url':full_img_link} )\n",
    "    browser.back()\n",
    "    time.sleep(0.5)\n",
    "hemisphere_image_urls\n",
    "browser.quit()\n"
   ]
  },
  {
   "cell_type": "code",
   "execution_count": null,
   "metadata": {},
   "outputs": [],
   "source": []
  }
 ],
 "metadata": {
  "kernelspec": {
   "display_name": "Python 3",
   "language": "python",
   "name": "python3"
  },
  "language_info": {
   "codemirror_mode": {
    "name": "ipython",
    "version": 3
   },
   "file_extension": ".py",
   "mimetype": "text/x-python",
   "name": "python",
   "nbconvert_exporter": "python",
   "pygments_lexer": "ipython3",
   "version": "3.7.1"
  }
 },
 "nbformat": 4,
 "nbformat_minor": 2
}

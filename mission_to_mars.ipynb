{
 "cells": [
  {
   "cell_type": "code",
   "execution_count": 1,
   "metadata": {},
   "outputs": [],
   "source": [
    "from splinter import Browser\n",
    "from bs4 import BeautifulSoup\n",
    "import requests\n",
    "import pymongo\n",
    "import time\n",
    "import re\n",
    "import pandas as pd"
   ]
  },
  {
   "cell_type": "code",
   "execution_count": 2,
   "metadata": {},
   "outputs": [],
   "source": [
    "conn = 'mongodb://localhost:27017'\n",
    "client = pymongo.MongoClient(conn)"
   ]
  },
  {
   "cell_type": "code",
   "execution_count": 3,
   "metadata": {},
   "outputs": [],
   "source": [
    "db = client.nasa_mars_db\n",
    "collection = db.mars_news"
   ]
  },
  {
   "cell_type": "code",
   "execution_count": 4,
   "metadata": {},
   "outputs": [],
   "source": [
    "browser = Browser('chrome')"
   ]
  },
  {
   "cell_type": "code",
   "execution_count": 5,
   "metadata": {},
   "outputs": [],
   "source": [
    "nasa_url = \"https://mars.nasa.gov/news/\"\n",
    "browser.visit(nasa_url)\n",
    "time.sleep(0.5)"
   ]
  },
  {
   "cell_type": "code",
   "execution_count": 6,
   "metadata": {},
   "outputs": [],
   "source": [
    "html_1 = browser.html\n",
    "soup = BeautifulSoup(html_1, 'html.parser')\n",
    "\n",
    "news_title =  soup.find('div', class_= 'content_title').text\n",
    "# print (news_title.text)\n",
    "news_para =  soup.find('div', class_= 'article_teaser_body').text\n",
    "# print (news_para.text)"
   ]
  },
  {
   "cell_type": "code",
   "execution_count": 7,
   "metadata": {},
   "outputs": [],
   "source": [
    "jpl_nasa_url = \"https://www.jpl.nasa.gov/spaceimages/?search=&category=Mars\"\n",
    "browser.visit(jpl_nasa_url)\n",
    "time.sleep(0.5)"
   ]
  },
  {
   "cell_type": "code",
   "execution_count": 8,
   "metadata": {},
   "outputs": [],
   "source": [
    "browser.click_link_by_id('full_image')\n",
    "time.sleep(2)"
   ]
  },
  {
   "cell_type": "code",
   "execution_count": 9,
   "metadata": {},
   "outputs": [],
   "source": [
    "browser.click_link_by_partial_text('more info')\n",
    "time.sleep(0.5)"
   ]
  },
  {
   "cell_type": "code",
   "execution_count": 10,
   "metadata": {},
   "outputs": [],
   "source": [
    "html_2 = browser.html\n",
    "soup = BeautifulSoup(html_2, 'html.parser')"
   ]
  },
  {
   "cell_type": "code",
   "execution_count": 11,
   "metadata": {},
   "outputs": [],
   "source": [
    "images = soup.find_all('div', class_=\"download_tiff\")\n",
    "for img in images:\n",
    "    try:\n",
    "        image_1 = img.a\n",
    "        image_2 = image_1['href']\n",
    "#         print(image_2)\n",
    "        if image_2.endswith('jpg'):\n",
    "            featured_image_url = image_2\n",
    "#             print(featured_image_url)\n",
    "            break\n",
    "    except AttributeError as e:\n",
    "        print (e)"
   ]
  },
  {
   "cell_type": "code",
   "execution_count": 12,
   "metadata": {},
   "outputs": [],
   "source": [
    "mars_weather_twitter_url = \"https://twitter.com/marswxreport?lang=en\"\n",
    "browser.visit(mars_weather_twitter_url)\n",
    "time.sleep(0.5)\n",
    "html_3 = browser.html\n",
    "soup = BeautifulSoup(html_3, 'html.parser')"
   ]
  },
  {
   "cell_type": "code",
   "execution_count": 13,
   "metadata": {},
   "outputs": [],
   "source": [
    "if soup.find(href=re.compile(\"MarsWxReport\")):\n",
    "    mars_twitter_post = soup.find('p', class_= 'TweetTextSize TweetTextSize--normal js-tweet-text tweet-text')\n",
    "    mars_weather_twitter_post = mars_twitter_post.contents[0]\n",
    "#     print(mars_weather_twitter_post)    "
   ]
  },
  {
   "cell_type": "code",
   "execution_count": 14,
   "metadata": {},
   "outputs": [],
   "source": [
    "mars_facts_url = \"https://space-facts.com/mars/\"\n",
    "browser.visit(mars_facts_url)\n",
    "time.sleep(0.5)\n",
    "html_4 = browser.html\n",
    "soup = BeautifulSoup(html_4, 'html.parser')"
   ]
  },
  {
   "cell_type": "code",
   "execution_count": 15,
   "metadata": {},
   "outputs": [],
   "source": [
    "facts_table = soup.find('table')"
   ]
  },
  {
   "cell_type": "code",
   "execution_count": 16,
   "metadata": {},
   "outputs": [],
   "source": [
    "column1 = facts_table.find_all('td', class_='column-1')\n",
    "column2 = facts_table.find_all('td', class_='column-2')\n",
    "\n",
    "Parameters = []\n",
    "Values = []\n",
    "\n",
    "for row in column1:\n",
    "    parameter = row.text.strip(\":\")\n",
    "    Parameters.append(parameter)\n",
    "    \n",
    "for row in column2:\n",
    "    value = row.text.strip()\n",
    "    Values.append(value)\n",
    "    \n",
    "mars_facts = pd.DataFrame({\n",
    "    \"Parameter\":Parameters,\n",
    "    \"Value\":Values\n",
    "    })\n",
    "\n",
    "mars_facts_html = mars_facts.to_html(header=False, index=None)\n",
    "# print (mars_facts)"
   ]
  },
  {
   "cell_type": "code",
   "execution_count": 17,
   "metadata": {},
   "outputs": [],
   "source": [
    "mars_hemispheres_url = \"https://astrogeology.usgs.gov/search/results?q=hemisphere+enhanced&k1=target&v1=Mars\"\n",
    "browser.visit(mars_hemispheres_url)\n",
    "time.sleep(0.5)\n",
    "html_5 = browser.html\n",
    "soup = BeautifulSoup(html_5, 'html.parser')"
   ]
  },
  {
   "cell_type": "code",
   "execution_count": 18,
   "metadata": {},
   "outputs": [],
   "source": [
    "hemisphere_image_urls = []\n",
    "base_url = \"https://astrogeology.usgs.gov\"\n",
    "links = soup.find_all('div', class_=\"description\")\n",
    "for link in links:\n",
    "    time.sleep(0.5)\n",
    "    title = link.h3.text\n",
    "#     print (title)\n",
    "    new_link = base_url + str(link.a['href'])\n",
    "#     print(new_link)\n",
    "    browser.visit(new_link)\n",
    "    time.sleep(0.5)\n",
    "    browser.click_link_by_partial_href('#open')\n",
    "    time.sleep(0.5)\n",
    "    html_6 = browser.html\n",
    "    soup = BeautifulSoup(html_6, 'html.parser')\n",
    "    full_img = soup.find('img', class_ = 'wide-image')\n",
    "    img_link = full_img['src']\n",
    "#     print(img_link)\n",
    "    full_img_link = base_url + img_link\n",
    "#     print(full_img_link)\n",
    "    hemisphere_image_urls.append( {'title':title, 'img_url':full_img_link} )\n",
    "    browser.back()\n",
    "\n",
    "# hemisphere_image_urls\n",
    "browser.quit()"
   ]
  },
  {
   "cell_type": "code",
   "execution_count": 19,
   "metadata": {},
   "outputs": [
    {
     "name": "stdout",
     "output_type": "stream",
     "text": [
      "{'Mars_Headlines': \"NASA's InSight Detects First Likely 'Quake' on Mars\", 'Mars_News_Details': 'While their causes are still unknown, one of three shaking events looks a lot like the quakes detected on the Moon by the Apollo missions.', 'Mars_Space_Image': '//photojournal.jpl.nasa.gov/jpeg/PIA17838.jpg', 'Mars_Weather_Report': 'InSight sol 143 (2019-04-22) low -98.0ºC (-144.3ºF) high -19.8ºC (-3.7ºF)\\nwinds from the SW at 4.5 m/s (10.1 mph) gusting to 12.1 m/s (27.2 mph)\\npressure at 7.40 hPa', 'Mars_Facts': '<table border=\"1\" class=\"dataframe\">\\n  <tbody>\\n    <tr>\\n      <td>Equatorial Diameter</td>\\n      <td>6,792 km</td>\\n    </tr>\\n    <tr>\\n      <td>Polar Diameter</td>\\n      <td>6,752 km</td>\\n    </tr>\\n    <tr>\\n      <td>Mass</td>\\n      <td>6.42 x 10^23 kg (10.7% Earth)</td>\\n    </tr>\\n    <tr>\\n      <td>Moons</td>\\n      <td>2 (Phobos &amp; Deimos)</td>\\n    </tr>\\n    <tr>\\n      <td>Orbit Distance</td>\\n      <td>227,943,824 km (1.52 AU)</td>\\n    </tr>\\n    <tr>\\n      <td>Orbit Period</td>\\n      <td>687 days (1.9 years)</td>\\n    </tr>\\n    <tr>\\n      <td>Surface Temperature:</td>\\n      <td>-153 to 20 °C</td>\\n    </tr>\\n    <tr>\\n      <td>First Record</td>\\n      <td>2nd millennium BC</td>\\n    </tr>\\n    <tr>\\n      <td>Recorded By</td>\\n      <td>Egyptian astronomers</td>\\n    </tr>\\n  </tbody>\\n</table>', 'Mars_Hemispheres': [{'title': 'Cerberus Hemisphere Enhanced', 'img_url': 'https://astrogeology.usgs.gov/cache/images/cfa62af2557222a02478f1fcd781d445_cerberus_enhanced.tif_full.jpg'}, {'title': 'Schiaparelli Hemisphere Enhanced', 'img_url': 'https://astrogeology.usgs.gov/cache/images/3cdd1cbf5e0813bba925c9030d13b62e_schiaparelli_enhanced.tif_full.jpg'}, {'title': 'Syrtis Major Hemisphere Enhanced', 'img_url': 'https://astrogeology.usgs.gov/cache/images/ae209b4e408bb6c3e67b6af38168cf28_syrtis_major_enhanced.tif_full.jpg'}, {'title': 'Valles Marineris Hemisphere Enhanced', 'img_url': 'https://astrogeology.usgs.gov/cache/images/7cf2da4bf549ed01c17f206327be4db7_valles_marineris_enhanced.tif_full.jpg'}]}\n"
     ]
    }
   ],
   "source": [
    "mars_scraped_data = {\n",
    "    'Mars_Headlines' : news_title,\n",
    "    'Mars_News_Details' : news_para,\n",
    "    'Mars_Space_Image' : featured_image_url,\n",
    "    'Mars_Weather_Report' : mars_weather_twitter_post,\n",
    "    'Mars_Facts' : mars_facts_html,\n",
    "    'Mars_Hemispheres' : hemisphere_image_urls\n",
    "}\n",
    "print (mars_scraped_data)"
   ]
  },
  {
   "cell_type": "code",
   "execution_count": null,
   "metadata": {},
   "outputs": [],
   "source": []
  }
 ],
 "metadata": {
  "kernelspec": {
   "display_name": "Python 3",
   "language": "python",
   "name": "python3"
  },
  "language_info": {
   "codemirror_mode": {
    "name": "ipython",
    "version": 3
   },
   "file_extension": ".py",
   "mimetype": "text/x-python",
   "name": "python",
   "nbconvert_exporter": "python",
   "pygments_lexer": "ipython3",
   "version": "3.7.1"
  }
 },
 "nbformat": 4,
 "nbformat_minor": 2
}
